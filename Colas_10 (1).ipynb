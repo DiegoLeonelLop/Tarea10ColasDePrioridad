{
  "nbformat": 4,
  "nbformat_minor": 0,
  "metadata": {
    "colab": {
      "name": "Colas_10.ipynb",
      "provenance": []
    },
    "kernelspec": {
      "name": "python3",
      "display_name": "Python 3"
    },
    "language_info": {
      "name": "python"
    }
  },
  "cells": [
    {
      "cell_type": "markdown",
      "metadata": {
        "id": "XTgfjDwLKmRR"
      },
      "source": [
        ""
      ]
    },
    {
      "cell_type": "code",
      "metadata": {
        "id": "SAuVDHAOJ9k_"
      },
      "source": [
        "class Queue:\n",
        "    def __init__(self): \n",
        "        self.data = []\n",
        "    \n",
        "    def is_empty( self):\n",
        "        return len( self.data)==0\n",
        "\n",
        "    def lenght( self ):\n",
        "        return len( self.data)\n",
        "    \n",
        "    def enqueue( self , value ):\n",
        "        self.data.append( value)\n",
        "\n",
        "    def dequeue( self ):\n",
        "        return self.data.pop(0)\n",
        "\n",
        "    def to_string( self ):\n",
        "        for elem in self.data:\n",
        "            print(f\"| {elem } | <--\" , end=\"\")\n"
      ],
      "execution_count": 1,
      "outputs": []
    },
    {
      "cell_type": "code",
      "metadata": {
        "colab": {
          "base_uri": "https://localhost:8080/"
        },
        "id": "bFpqie_RMrpv",
        "outputId": "719890c9-2766-4cbb-f9dd-983ceefef035"
      },
      "source": [
        "cola= Queue()\n",
        "print(\"Esta vacio?:\" , cola.is_empty())\n",
        "print(\"numero de elementos = \" , cola.lenght() )\n",
        "cola.enqueue(10)\n",
        "cola.enqueue(20)\n",
        "cola.enqueue(30)\n",
        "print(\"Esta vacio?:\" , cola.is_empty())\n",
        "print(\"numero de elementos = \" , cola.lenght() )\n",
        "cola.enqueue(40)\n",
        "cola.enqueue(50)\n",
        "cola.enqueue(60)\n",
        "cola.to_string()\n",
        "siguiente = cola.dequeue()\n",
        "print(\"Atendiendo a:\" , siguiente)\n",
        "cola.to_string()"
      ],
      "execution_count": 2,
      "outputs": [
        {
          "output_type": "stream",
          "name": "stdout",
          "text": [
            "Esta vacio?: True\n",
            "numero de elementos =  0\n",
            "Esta vacio?: False\n",
            "numero de elementos =  3\n",
            "| 10 | <--| 20 | <--| 30 | <--| 40 | <--| 50 | <--| 60 | <--Atendiendo a: 10\n",
            "| 20 | <--| 30 | <--| 40 | <--| 50 | <--| 60 | <--"
          ]
        }
      ]
    },
    {
      "cell_type": "markdown",
      "metadata": {
        "id": "58guFtdbQm7J"
      },
      "source": [
        "#VARIANTES DEL ADT COLA\n",
        "1. Circulares\n",
        "2. Prioridad\n",
        "     2.1 acotada\n",
        "     2.2 no acotada"
      ]
    },
    {
      "cell_type": "code",
      "metadata": {
        "id": "Eo3xO4_TiAwe"
      },
      "source": [
        "#Prioridad\n",
        "class Nodo:\n",
        "    def __init__(self, prioridad):\n",
        "        self.prioridad = prioridad\n",
        "        self.elem = elem\n",
        "    def __init__( self ):\n",
        "        self.data = []\n",
        "\n",
        "class PriorityQueue:\n",
        "    def __init__( self ):\n",
        "        self.data= []\n",
        "    \n",
        "    def is_empty( self ):\n",
        "        return len( self.data ) == 0\n",
        "    \n",
        "    def length( self ):\n",
        "        return len( self.data )\n",
        "\n",
        "    def enqueue( self, value ):\n",
        "        dato = (value)\n",
        "        conta = -1\n",
        "        continua = True\n",
        "\n",
        "        if self.is_empty():\n",
        "            self.data.append(dato)\n",
        "        else:\n",
        "            while continua:\n",
        "                contar += 1\n",
        "\n",
        "                if contar == self.length(): \n",
        "                    continua = False\n",
        "\n",
        "                elif dato[0] < self.data[conta][0]: \n",
        "                    continua = False\n",
        "\n",
        "            self.data.insert(contar, dato)\n",
        "\n",
        "    def dequeue ( self ):\n",
        "        return self.data.pop(0)\n",
        "    \n",
        "    def to_string( self ):\n",
        "        for elem in self.data:\n",
        "            print(f\"|{elem}| <---\" , end=\"\")\n",
        "        print(\"\")\n",
        "\n"
      ],
      "execution_count": 20,
      "outputs": []
    },
    {
      "cell_type": "code",
      "metadata": {
        "colab": {
          "base_uri": "https://localhost:8080/",
          "height": 273
        },
        "id": "9OTCbkabkljX",
        "outputId": "b29a7690-c219-48fb-b3f7-fc039ef1c613"
      },
      "source": [
        "colap = PriorityQueue()\n",
        "print(f\"La lista esta vacia? ={colap.is_empty()}\")\n",
        "print(f\"Longitud de la cola:{colap.length()}\")\n",
        "nodoa= Nodo(1,\"Niños\")\n",
        "nodob= Nodo(2,\"Mujeres\")\n",
        "nodoc= Nodo(3,\"Personas mayores\")\n",
        "nodod= Nodo(5,\"Hombres\")\n",
        "nodoe= Nodo(6,\"Tribulacion\")\n",
        "nodof= Nodo(7,\"Capitan y trabajadores\")\n",
        "\n",
        "colap.enqueue(nodoa)\n",
        "colap.enqueue(nodob)\n",
        "colap.enqueue(nodoc)\n",
        "colap.enqueue(nodod)\n",
        "colap.enqueue(nodoe)\n",
        "colap.enqueue(nodof)\n",
        "\n",
        "print(\"\")\n",
        "colap.to_string()\n",
        "colap.dequeue()\n",
        "print(\"\")"
      ],
      "execution_count": 21,
      "outputs": [
        {
          "output_type": "stream",
          "name": "stdout",
          "text": [
            "La lista esta vacia? =True\n",
            "Longitud de la cola:0\n"
          ]
        },
        {
          "output_type": "error",
          "ename": "TypeError",
          "evalue": "ignored",
          "traceback": [
            "\u001b[0;31m---------------------------------------------------------------------------\u001b[0m",
            "\u001b[0;31mTypeError\u001b[0m                                 Traceback (most recent call last)",
            "\u001b[0;32m<ipython-input-21-4407a1b3f369>\u001b[0m in \u001b[0;36m<module>\u001b[0;34m()\u001b[0m\n\u001b[1;32m      2\u001b[0m \u001b[0mprint\u001b[0m\u001b[0;34m(\u001b[0m\u001b[0;34mf\"La lista esta vacia? ={colap.is_empty()}\"\u001b[0m\u001b[0;34m)\u001b[0m\u001b[0;34m\u001b[0m\u001b[0;34m\u001b[0m\u001b[0m\n\u001b[1;32m      3\u001b[0m \u001b[0mprint\u001b[0m\u001b[0;34m(\u001b[0m\u001b[0;34mf\"Longitud de la cola:{colap.length()}\"\u001b[0m\u001b[0;34m)\u001b[0m\u001b[0;34m\u001b[0m\u001b[0;34m\u001b[0m\u001b[0m\n\u001b[0;32m----> 4\u001b[0;31m \u001b[0mnodoa\u001b[0m\u001b[0;34m=\u001b[0m \u001b[0mNodo\u001b[0m\u001b[0;34m(\u001b[0m\u001b[0;36m1\u001b[0m\u001b[0;34m,\u001b[0m\u001b[0;34m\"Niños\"\u001b[0m\u001b[0;34m)\u001b[0m\u001b[0;34m\u001b[0m\u001b[0;34m\u001b[0m\u001b[0m\n\u001b[0m\u001b[1;32m      5\u001b[0m \u001b[0mnodob\u001b[0m\u001b[0;34m=\u001b[0m \u001b[0mNodo\u001b[0m\u001b[0;34m(\u001b[0m\u001b[0;36m2\u001b[0m\u001b[0;34m,\u001b[0m\u001b[0;34m\"Mujeres\"\u001b[0m\u001b[0;34m)\u001b[0m\u001b[0;34m\u001b[0m\u001b[0;34m\u001b[0m\u001b[0m\n\u001b[1;32m      6\u001b[0m \u001b[0mnodoc\u001b[0m\u001b[0;34m=\u001b[0m \u001b[0mNodo\u001b[0m\u001b[0;34m(\u001b[0m\u001b[0;36m3\u001b[0m\u001b[0;34m,\u001b[0m\u001b[0;34m\"Personas mayores\"\u001b[0m\u001b[0;34m)\u001b[0m\u001b[0;34m\u001b[0m\u001b[0;34m\u001b[0m\u001b[0m\n",
            "\u001b[0;31mTypeError\u001b[0m: __init__() takes 1 positional argument but 3 were given"
          ]
        }
      ]
    }
  ]
}